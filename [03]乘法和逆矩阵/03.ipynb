{
 "cells": [
  {
   "cell_type": "markdown",
   "id": "3420deaf",
   "metadata": {},
   "source": [
    "## 乘法和逆矩阵"
   ]
  }
 ],
 "metadata": {
  "language_info": {
   "name": "python"
  }
 },
 "nbformat": 4,
 "nbformat_minor": 5
}
