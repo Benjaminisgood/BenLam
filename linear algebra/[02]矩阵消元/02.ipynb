{
 "cells": [
  {
   "cell_type": "markdown",
   "id": "26e2efcd",
   "metadata": {},
   "source": [
    "# Elimination with Matrices\n",
    "视频链接：https://www.youtube.com/watch?v=QVKj3LADCnA"
   ]
  },
  {
   "cell_type": "markdown",
   "id": "5ef6412c",
   "metadata": {},
   "source": [
    "将我的笔记用md/latex公式化、numpy代码化、和plt可视化。要求用到的函数和库都需要给出使用方法的注释"
   ]
  },
  {
   "cell_type": "markdown",
   "id": "3de2b505",
   "metadata": {},
   "source": [
    "两组矩阵相互点乘，一定把左边那个视为行向量，右边的视为列向量，假设左边的向量a行b列，右边的是c行d列。要使得点乘成立（有意义），必须有b=c，并且输入维度是列数（a行数据b维特征），输出维度是行数。乘积 $A \\cdot B 就是一个 a \\times d$ 的矩阵。\n",
    "\n",
    "- 经典意义上的点积:   \n",
    "$1 \\times n 行向量 \\cdot n \\times 1 列向量 → 标量（scalar）$\n",
    "比如我们常讲列向量作为一个权重向量。  \n",
    "\n",
    "- 矩阵乘法（Matrix Multiplication）——是点积的推广:  \n",
    "$$\n",
    "\tA \\in \\mathbb{R}^{a \\times b} 是一个矩阵\\\\\n",
    "\tB \\in \\mathbb{R}^{b \\times d} 是另一个矩阵\n",
    "$$\n",
    "每一个结果中的元素，就是第 i 行向量 与 第 j 列向量 的点乘结果。\n",
    "\n",
    "点乘仅产生一个标量，矩阵乘法则会产生一整个新矩阵"
   ]
  },
  {
   "cell_type": "code",
   "execution_count": 12,
   "id": "8d116100",
   "metadata": {},
   "outputs": [
    {
     "name": "stdout",
     "output_type": "stream",
     "text": [
      "消元后的矩阵：\n",
      " [[ 1.  2.  1.]\n",
      " [ 0.  2. -2.]\n",
      " [ 0.  0.  5.]]\n"
     ]
    }
   ],
   "source": [
    "import numpy as np\n",
    "\n",
    "# 初始矩阵\n",
    "A = np.array([\n",
    "    [1, 2, 1],\n",
    "    [3, 8, 1],\n",
    "    [0, 4, 1]\n",
    "], dtype=float)\n",
    "\n",
    "# 第一步：R2 = R2 - 3 * R1\n",
    "A[1] = A[1] - 3 * A[0]\n",
    "\n",
    "# 第二步：R3 = R3 - 2 * R2\n",
    "A[2] = A[2] - 2 * A[1]\n",
    "\n",
    "print(\"消元后的矩阵：\\n\", A)"
   ]
  },
  {
   "cell_type": "markdown",
   "id": "883e7a00",
   "metadata": {},
   "source": [
    "📘 回带求解\n",
    "\n",
    "💡 原始线性方程组\n",
    "\n",
    "$$\n",
    "\\begin{bmatrix}\n",
    "1 & 2 & 1 \\\\\n",
    "3 & 8 & 1 \\\\\n",
    "0 & 4 & 1 \\\\\n",
    "\\end{bmatrix}\n",
    "\\begin{bmatrix}\n",
    "x \\\\\n",
    "y \\\\\n",
    "z \\\\\n",
    "\\end{bmatrix}\n",
    "=\n",
    "\\begin{bmatrix}\n",
    "2 \\\\\n",
    "12 \\\\\n",
    "2 \\\\\n",
    "\\end{bmatrix}\n",
    "$$\n",
    "\n",
    "🧮 增广矩阵构造\n",
    "\n",
    "$$\n",
    "\\left[\n",
    "\\begin{array}{ccc|c}\n",
    "1 & 2 & 1 & 2 \\\\\n",
    "3 & 8 & 1 & 12 \\\\\n",
    "0 & 4 & 1 & 2 \\\\\n",
    "\\end{array}\n",
    "\\right]\n",
    "$$\n",
    "\n",
    "🔁 消元过程（带右端向量）\n",
    "1.\t$R_2 \\leftarrow R_2 - 3 \\times R_1$：\n",
    "\n",
    "$$\n",
    "\\left[\n",
    "\\begin{array}{ccc|c}\n",
    "1 & 2 & 1 & 2 \\\\\n",
    "0 & 2 & -2 & 6 \\\\\n",
    "0 & 4 & 1 & 2 \\\\\n",
    "\\end{array}\n",
    "\\right]\n",
    "$$\n",
    "\n",
    "2.\t$R_3 \\leftarrow R_3 - 2 \\times R_2$：\n",
    "\n",
    "$$\n",
    "\\left[\n",
    "\\begin{array}{ccc|c}\n",
    "1 & 2 & 1 & 2 \\\\\n",
    "0 & 2 & -2 & 6 \\\\\n",
    "0 & 0 & 5 & -10 \\\\\n",
    "\\end{array}\n",
    "\\right]\n",
    "$$\n",
    "\n",
    "⸻\n",
    "\n",
    "🔁 回代求解：\n",
    "\n",
    "由上三角矩阵得到：\n",
    "\n",
    "$$\n",
    "\\begin{cases}\n",
    "5z = -10 \\Rightarrow z = -2 \\\\\n",
    "2y - 2z = 6 \\Rightarrow 2y + 4 = 6 \\Rightarrow y = 1 \\\\\n",
    "x + 2y + z = 2 \\Rightarrow x + 2 -2 = 2 \\Rightarrow x = 2 \\\\\n",
    "\\end{cases}\n",
    "$$"
   ]
  },
  {
   "cell_type": "code",
   "execution_count": 13,
   "id": "727e3164",
   "metadata": {},
   "outputs": [
    {
     "name": "stdout",
     "output_type": "stream",
     "text": [
      "解为: x = 2.0, y = 1.0, z = -2.0\n"
     ]
    }
   ],
   "source": [
    "import numpy as np\n",
    "\n",
    "# 系数矩阵 A 和右端项 b\n",
    "A = np.array([[1, 2, 1],\n",
    "              [3, 8, 1],\n",
    "              [0, 4, 1]], dtype=float)\n",
    "b = np.array([2, 12, 2], dtype=float)\n",
    "\n",
    "# 增广矩阵\n",
    "Ab = np.hstack([A, b.reshape(-1, 1)])\n",
    "\n",
    "# 消元过程　\n",
    "# Step 1: R2 = R2 - 3*R1\n",
    "Ab[1] = Ab[1] - 3 * Ab[0]\n",
    "\n",
    "# Step 2: R3 = R3 - 2*R2 (after modifying R2)\n",
    "Ab[2] = Ab[2] - 2 * Ab[1]\n",
    "\n",
    "# 回带求解\n",
    "z = Ab[2, 3] / Ab[2, 2]\n",
    "y = (Ab[1, 3] - Ab[1, 2] * z) / Ab[1, 1]\n",
    "x = (Ab[0, 3] - Ab[0, 2] * z - Ab[0, 1] * y) / Ab[0, 0]\n",
    "\n",
    "print(f\"解为: x = {x}, y = {y}, z = {z}\")"
   ]
  },
  {
   "cell_type": "code",
   "execution_count": 14,
   "id": "911ea3c0",
   "metadata": {},
   "outputs": [
    {
     "name": "stdout",
     "output_type": "stream",
     "text": [
      "[[58 68 78]]\n"
     ]
    }
   ],
   "source": [
    "import numpy as np\n",
    "\n",
    "A = np.array([\n",
    "    [1, 2, 3],\n",
    "    [4, 5, 6],\n",
    "    [7, 8, 9]\n",
    "])\n",
    "\n",
    "# 行向量\n",
    "r = np.array([[1, 2, 7]])  # shape: (1, 3)\n",
    "\n",
    "# 左乘\n",
    "result = r @ A  # shape: (1, 3)\n",
    "\n",
    "print(result)"
   ]
  },
  {
   "cell_type": "markdown",
   "id": "8e6e333f",
   "metadata": {},
   "source": [
    "$C_{ij} = \\sum_{k=1}^{n} A_{ik} \\cdot B_{kj}$"
   ]
  },
  {
   "cell_type": "markdown",
   "id": "f9fce6da",
   "metadata": {},
   "source": [
    "## 消元矩阵\n",
    "## 行交换矩阵与逆矩阵"
   ]
  }
 ],
 "metadata": {
  "kernelspec": {
   "display_name": "Python 3",
   "language": "python",
   "name": "python3"
  },
  "language_info": {
   "codemirror_mode": {
    "name": "ipython",
    "version": 3
   },
   "file_extension": ".py",
   "mimetype": "text/x-python",
   "name": "python",
   "nbconvert_exporter": "python",
   "pygments_lexer": "ipython3",
   "version": "3.12.3"
  }
 },
 "nbformat": 4,
 "nbformat_minor": 5
}
