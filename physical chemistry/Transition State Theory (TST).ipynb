{
 "cells": [
  {
   "cell_type": "markdown",
   "id": "407e3d59",
   "metadata": {},
   "source": [
    "## Transition State Theory（过渡态理论）\n",
    "\n",
    "**Transition State Theory (TST)**，又称为 **Activated Complex Theory**，是解释反应速率的理论之一，尤其在讨论复杂反应路径和温度对速率的影响时非常有用。\n",
    "\n",
    "### 核心思想\n",
    "\n",
    "反应物在转化为生成物的过程中，会经过一个能量极大点，这个瞬间的结构被称为 **过渡态（Transition State）** 或 **活化复合物（Activated Complex）**。TST 假设所有达到过渡态的粒子都会不可逆地转化为生成物。\n",
    "\n",
    "### 反应速率表达式（Eyring方程）\n",
    "\n",
    "$$\n",
    "k = \\frac{k_B T}{h} \\cdot e^{-\\Delta G^\\ddagger / RT}\n",
    "$$\n",
    "\n",
    "- \\( k \\)：速率常数  \n",
    "- \\( k_B \\)：玻尔兹曼常数  \n",
    "- \\( h \\)：普朗克常数  \n",
    "- \\( T \\)：绝对温度  \n",
    "- \\( \\Delta G^\\ddagger \\)：吉布斯自由能的活化能  \n",
    "- \\( R \\)：气体常数\n",
    "\n",
    "### 与碰撞理论的对比\n",
    "\n",
    "| 方面       | 碰撞理论（Collision Theory） | 过渡态理论（Transition State Theory） |\n",
    "|------------|-----------------------------|----------------------------------------|\n",
    "| 模型基础   | 碰撞频率 + 能量 + 取向       | 过渡态（势能面）                       |\n",
    "| 适用范围   | 简单反应，气相反应为主        | 更复杂的反应机理，尤适用于溶液反应等   |\n",
    "| 数学表达式 | Arrhenius 方程               | Eyring 方程                            |\n"
   ]
  }
 ],
 "metadata": {
  "language_info": {
   "name": "python"
  }
 },
 "nbformat": 4,
 "nbformat_minor": 5
}
