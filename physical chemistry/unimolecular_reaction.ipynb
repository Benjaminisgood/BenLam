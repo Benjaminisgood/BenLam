{
 "cells": [
  {
   "cell_type": "markdown",
   "id": "0944f06b",
   "metadata": {},
   "source": [
    "## 单分子反应理论"
   ]
  }
 ],
 "metadata": {
  "language_info": {
   "name": "python"
  }
 },
 "nbformat": 4,
 "nbformat_minor": 5
}
